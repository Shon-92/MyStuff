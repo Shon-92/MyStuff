{
  "nbformat": 4,
  "nbformat_minor": 0,
  "metadata": {
    "colab": {
      "name": "You could be anything",
      "provenance": [],
      "collapsed_sections": [],
      "include_colab_link": true
    },
    "kernelspec": {
      "name": "python3",
      "display_name": "Python 3"
    }
  },
  "cells": [
    {
      "cell_type": "markdown",
      "metadata": {
        "id": "view-in-github",
        "colab_type": "text"
      },
      "source": [
        "<a href=\"https://colab.research.google.com/github/Shon-92/MyStuff/blob/master/You_could_be_anything.ipynb\" target=\"_parent\"><img src=\"https://colab.research.google.com/assets/colab-badge.svg\" alt=\"Open In Colab\"/></a>"
      ]
    },
    {
      "cell_type": "code",
      "metadata": {
        "colab_type": "code",
        "outputId": "4aaf2c88-2070-4f6c-9b4b-da3660e9aefa",
        "id": "fsVeH9SGLvTc",
        "colab": {
          "base_uri": "https://localhost:8080/",
          "height": 136
        }
      },
      "source": [
        "# Let's assign some variables to start with, including `None`\n",
        "# in a couple places.\n",
        " \n",
        "name = None\n",
        "species = \"Human\"\n",
        "strength = 4\n",
        "magic = 5\n",
        "favorite_color = \"Blue\"\n",
        "profession = None\n",
        "\n",
        "# Hm, maybe we haven't assigned a name yet...\n",
        "if name is None:\n",
        "    name = input(\"What is your name?\")\n",
        "    print(\"Fantastic, thanks {}\".format(name))\n",
        "\n",
        "# Every adventurer needs a profession.\n",
        "if profession is None:\n",
        "    print(\"{}, you are a {} who needs a profession\".format(name, species))\n",
        "    print(\"Your strength is {} and magic is {},\".format(strength, magic))\n",
        "    print(\"and your favorite color is {}\".format(favorite_color))\n",
        "    profession = input(\"What profession would you like?\")\n",
        "\n",
        "print(\"Welcome, {}. You are a {} {}.\".format(name, species, profession))\n",
        "\n",
        "# Once you've run the program go back and tweak your starting\n",
        "# variables. Does that change the program's behavior?\n",
        "\n",
        "# As a stretch goal, try setting `favorite_color` to None and\n",
        "# getting user input by copying the logic for `name` and\n",
        "# `profession`."
      ],
      "execution_count": 0,
      "outputs": [
        {
          "output_type": "stream",
          "text": [
            "What is your name? LongDong Johnson\n",
            "Fantastic, thanks  LongDong Johnson\n",
            " LongDong Johnson, you are a Human who needs a profession\n",
            "Your strength is 4 and magic is 5,\n",
            "and your favorite color is Octarine\n",
            "What profession would you like?Porn Star\n",
            "Welcome,  LongDong Johnson. You are a Human Porn Star.\n"
          ],
          "name": "stdout"
        }
      ]
    }
  ]
}