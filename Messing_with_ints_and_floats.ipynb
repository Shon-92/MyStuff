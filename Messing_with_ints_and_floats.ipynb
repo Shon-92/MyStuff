{
  "nbformat": 4,
  "nbformat_minor": 0,
  "metadata": {
    "colab": {
      "name": "Messing with ints and floats",
      "provenance": [],
      "collapsed_sections": [],
      "include_colab_link": true
    },
    "kernelspec": {
      "name": "python3",
      "display_name": "Python 3"
    }
  },
  "cells": [
    {
      "cell_type": "markdown",
      "metadata": {
        "id": "view-in-github",
        "colab_type": "text"
      },
      "source": [
        "<a href=\"https://colab.research.google.com/github/Shon-92/MyStuff/blob/master/Messing_with_ints_and_floats.ipynb\" target=\"_parent\"><img src=\"https://colab.research.google.com/assets/colab-badge.svg\" alt=\"Open In Colab\"/></a>"
      ]
    },
    {
      "cell_type": "code",
      "metadata": {
        "id": "3wC9ynZbDd5l",
        "colab_type": "code",
        "colab": {
          "base_uri": "https://localhost:8080/",
          "height": 187
        },
        "outputId": "8d0b93c6-6e7a-4ef1-d9ff-84d242b76c34"
      },
      "source": [
        "# Start by assigning some numbers to our variables.\n",
        "count = 1000000000000\n",
        "pi = 3000000000.2\n",
        "\n",
        "# Let's see what the built-in `type()`function does.\n",
        "type_of_count = type(count)\n",
        "type_of_pi = type(pi)\n",
        "print(type_of_count)\n",
        "print(type_of_pi)\n",
        "\n",
        "# We can do math with numbers. The `%` operator is modulo.\n",
        "print(count + 2)\n",
        "print(count * 10 )\n",
        "print(count / 2)\n",
        "print(1337 % 2)\n",
        "\n",
        "# Putting an int and a float together will give you a float.\n",
        "print(count * pi)\n",
        "\n",
        "# Be careful with floating point math.\n",
        "print(.24 + .22)\n",
        "\n",
        "# Numbers are *not* strings, even if they look similar.\n",
        "print(10 == \"10\")\n",
        "\n",
        "# Thankfully it's easy to convert numbers to strings when you\n",
        "# need to:\n",
        "\n",
        "print(\"Bring me \" + str(pi * count) + \" shrubberies!\")"
      ],
      "execution_count": 18,
      "outputs": [
        {
          "output_type": "stream",
          "text": [
            "<class 'int'>\n",
            "<class 'float'>\n",
            "1000000000002\n",
            "10000000000000\n",
            "500000000000.0\n",
            "1\n",
            "3.0000000001999996e+21\n",
            "0.45999999999999996\n",
            "False\n",
            "Bring me 3.0000000001999996e+21 shrubberies!\n"
          ],
          "name": "stdout"
        }
      ]
    }
  ]
}