{
  "nbformat": 4,
  "nbformat_minor": 0,
  "metadata": {
    "colab": {
      "name": "Man or Food ? ",
      "provenance": [],
      "include_colab_link": true
    },
    "kernelspec": {
      "name": "python3",
      "display_name": "Python 3"
    }
  },
  "cells": [
    {
      "cell_type": "markdown",
      "metadata": {
        "id": "view-in-github",
        "colab_type": "text"
      },
      "source": [
        "<a href=\"https://colab.research.google.com/github/Shon-92/MyStuff/blob/master/Man_or_Food_%3F.ipynb\" target=\"_parent\"><img src=\"https://colab.research.google.com/assets/colab-badge.svg\" alt=\"Open In Colab\"/></a>"
      ]
    },
    {
      "cell_type": "code",
      "metadata": {
        "id": "rfHPNqJdeSdW",
        "colab_type": "code",
        "colab": {
          "base_uri": "https://localhost:8080/",
          "height": 119
        },
        "outputId": "3aa600e5-cd9e-45df-933f-15c4c1844a11"
      },
      "source": [
        "# Start by assigning a string to our variable.\n",
        "food = \"pizzaroni\"\n",
        "\n",
        "# Let's see what the built-in `type()`function does.\n",
        "type_of_food = type(food)\n",
        "print(type_of_food)\n",
        "\n",
        "# We can access the characters of a string by index with bracket\n",
        "# notation, starting at index zero.\n",
        "third_letter = food[2]\n",
        "eighth_letter = food[7]\n",
        "print(\"The third letter is \" + third_letter)\n",
        "print(\"The eighth letter is \" + eighth_letter)\n",
        "\n",
        "# We can use the built-in `len()` function to get a string's\n",
        "# \"length\", or the number of characters it contains.\n",
        "print(len(food))\n",
        "\n",
        "# We can concatenate two strings together into one string with\n",
        "# the `+` operator.\n",
        "superfood = food + \" and pink lemonade\"\n",
        "print(\"I like \" + superfood + '!')\n",
        "\n",
        "# We can fill in strings using the `.format()` string method.\n",
        "name = \"ShonStax\"\n",
        "cost = 10\n",
        "demand = \"Bring me {} {}, {}!\"\n",
        "print(demand.format(cost, name, food))"
      ],
      "execution_count": 15,
      "outputs": [
        {
          "output_type": "stream",
          "text": [
            "<class 'str'>\n",
            "The third letter is z\n",
            "The eighth letter is n\n",
            "9\n",
            "I like pizzaroni and pink lemonade!\n",
            "Bring me 10 ShonStax, pizzaroni!\n"
          ],
          "name": "stdout"
        }
      ]
    }
  ]
}