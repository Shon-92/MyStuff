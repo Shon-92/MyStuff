{
  "nbformat": 4,
  "nbformat_minor": 0,
  "metadata": {
    "colab": {
      "name": "Copy of Messing with ints and floats",
      "provenance": [],
      "include_colab_link": true
    },
    "kernelspec": {
      "name": "python3",
      "display_name": "Python 3"
    }
  },
  "cells": [
    {
      "cell_type": "markdown",
      "metadata": {
        "id": "view-in-github",
        "colab_type": "text"
      },
      "source": [
        "<a href=\"https://colab.research.google.com/github/Shon-92/MyStuff/blob/master/Copy_of_Messing_with_ints_and_floats.ipynb\" target=\"_parent\"><img src=\"https://colab.research.google.com/assets/colab-badge.svg\" alt=\"Open In Colab\"/></a>"
      ]
    },
    {
      "cell_type": "code",
      "metadata": {
        "id": "3wC9ynZbDd5l",
        "colab_type": "code",
        "outputId": "e9b15a99-785c-4c57-daa1-0415391ce70a",
        "colab": {
          "base_uri": "https://localhost:8080/",
          "height": 187
        }
      },
      "source": [
        "# Start by assigning some numbers to our variables.\n",
        "count = 3.5\n",
        "pi = 3\n",
        "\n",
        "# Let's see what the built-in `type()`function does.\n",
        "type_of_count = type(count)\n",
        "type_of_pi = type(pi)\n",
        "print(type_of_count)\n",
        "print(type_of_pi)\n",
        "\n",
        "# We can do math with numbers. The `%` operator is modulo.\n",
        "print(count + 2)\n",
        "print(count * 10 )\n",
        "print(count / 2)\n",
        "print(1337 % 2)\n",
        "\n",
        "# Putting an int and a float together will give you a float.\n",
        "print(count * pi)\n",
        "\n",
        "# Be careful with floating point math.\n",
        "print(.24 + .22)\n",
        "\n",
        "# Numbers are *not* strings, even if they look similar.\n",
        "print(10 == \"10\")\n",
        "\n",
        "# Thankfully it's easy to convert numbers to strings when you\n",
        "# need to:\n",
        "\n",
        "print(\"Bring me \" + str(count) + \" shrubberies!\")"
      ],
      "execution_count": 0,
      "outputs": [
        {
          "output_type": "stream",
          "text": [
            "<class 'float'>\n",
            "<class 'int'>\n",
            "5.5\n",
            "35.0\n",
            "1.75\n",
            "1\n",
            "10.5\n",
            "0.45999999999999996\n",
            "False\n",
            "Bring me 3.5 shrubberies!\n"
          ],
          "name": "stdout"
        }
      ]
    }
  ]
}