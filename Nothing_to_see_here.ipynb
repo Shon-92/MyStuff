{
  "nbformat": 4,
  "nbformat_minor": 0,
  "metadata": {
    "colab": {
      "name": "Nothing to see here",
      "provenance": [],
      "include_colab_link": true
    },
    "kernelspec": {
      "name": "python3",
      "display_name": "Python 3"
    }
  },
  "cells": [
    {
      "cell_type": "markdown",
      "metadata": {
        "id": "view-in-github",
        "colab_type": "text"
      },
      "source": [
        "<a href=\"https://colab.research.google.com/github/Shon-92/MyStuff/blob/master/Nothing_to_see_here.ipynb\" target=\"_parent\"><img src=\"https://colab.research.google.com/assets/colab-badge.svg\" alt=\"Open In Colab\"/></a>"
      ]
    },
    {
      "cell_type": "code",
      "metadata": {
        "id": "0Rk0-98CIZc7",
        "colab_type": "code",
        "colab": {
          "base_uri": "https://localhost:8080/",
          "height": 34
        },
        "outputId": "47cb9c88-4083-4542-9a85-da40db3d50a5"
      },
      "source": [
        "# Here we're assigning the boolean `True` to the variable\n",
        "# `logged_in`. Try running this code, then changing True to False\n",
        "# to see how that changes the program. (Note the capital \"F\" and\n",
        "# lack of quotation marks.)\n",
        "# What happens if you change the value of `logged_in` to a number\n",
        "# or string instead of a boolean True or False?\n",
        "logged_in = 1\n",
        "\n",
        "username = \"Pluto\"\n",
        "\n",
        "# These are conditional statements. We'll cover these later, but\n",
        "# you might be able to make out how they're working here.\n",
        "if logged_in == True:\n",
        "    print(\"Welcome \" + username + \", loading launch codes.\")\n",
        "elif logged_in == False:\n",
        "    print(\"Sorry, I can't load the launch codes unless you log in.\")\n",
        "else:\n",
        "    print(\"Hey pal, no trying to hack the mainframe login.\")\n"
      ],
      "execution_count": 12,
      "outputs": [
        {
          "output_type": "stream",
          "text": [
            "Welcome Pluto, loading launch codes.\n"
          ],
          "name": "stdout"
        }
      ]
    }
  ]
}