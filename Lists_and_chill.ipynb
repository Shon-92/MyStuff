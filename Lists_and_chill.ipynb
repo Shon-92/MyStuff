{
  "nbformat": 4,
  "nbformat_minor": 0,
  "metadata": {
    "colab": {
      "name": "Lists and chill",
      "provenance": [],
      "collapsed_sections": [],
      "include_colab_link": true
    },
    "kernelspec": {
      "name": "python3",
      "display_name": "Python 3"
    }
  },
  "cells": [
    {
      "cell_type": "markdown",
      "metadata": {
        "id": "view-in-github",
        "colab_type": "text"
      },
      "source": [
        "<a href=\"https://colab.research.google.com/github/Shon-92/MyStuff/blob/master/Lists_and_chill.ipynb\" target=\"_parent\"><img src=\"https://colab.research.google.com/assets/colab-badge.svg\" alt=\"Open In Colab\"/></a>"
      ]
    },
    {
      "cell_type": "code",
      "metadata": {
        "id": "VZXHGZEJBJ7g",
        "colab_type": "code",
        "colab": {
          "base_uri": "https://localhost:8080/",
          "height": 102
        },
        "outputId": "3cbf4e62-2863-423c-d1a6-58f3ec732926"
      },
      "source": [
        "# Start by assigning some lists to variables.\n",
        "inventory = [\"beans\", \"coin\", \"tome\"]\n",
        "tome_dimensions = [8.5, 11, 2]\n",
        "\n",
        "# Lists in lists...\n",
        "random_stuff = [True, 3.14, [\"pie\", \"pizza\", \"automobile\"]]\n",
        "battleship_board = [[1, 1, 0], [1, 0, 1], [0, 0, 1]]\n",
        "\n",
        "# Just like with strings you can access list elements by index\n",
        "# with bracket notation. We start counting at zero:\n",
        "print(inventory[0])\n",
        "print(random_stuff[2])\n",
        "\n",
        "# With nested lists you can continue digging down with additional\n",
        "# indexes:\n",
        "print(random_stuff[2][0])\n",
        "\n",
        "# Lists have a particular length.\n",
        "inventory_size = len(inventory)\n",
        "print(\"You have {} items in your inventory\".format(inventory_size))\n",
        "\n",
        "# Lists are easy to modify. We'll cover this in more detail later.\n",
        "inventory.append(\"magic sword\")\n",
        "print(inventory)\n",
        "\n",
        "# Can you think of a way to print 3.14 solely by referencing the\n",
        "# variables above?"
      ],
      "execution_count": 14,
      "outputs": [
        {
          "output_type": "stream",
          "text": [
            "beans\n",
            "['pie', 'pizza', 'automobile']\n",
            "pie\n",
            "You have 3 items in your inventory\n",
            "['beans', 'coin', 'tome', 'magic sword']\n"
          ],
          "name": "stdout"
        }
      ]
    }
  ]
}